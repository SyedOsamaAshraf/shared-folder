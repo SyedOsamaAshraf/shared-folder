{
 "cells": [
  {
   "cell_type": "code",
   "execution_count": 1,
   "metadata": {},
   "outputs": [
    {
     "data": {
      "application/javascript": [
       "\n",
       "        if (window._pyforest_update_imports_cell) { window._pyforest_update_imports_cell('import pandas as pd'); }\n",
       "    "
      ],
      "text/plain": [
       "<IPython.core.display.Javascript object>"
      ]
     },
     "metadata": {},
     "output_type": "display_data"
    }
   ],
   "source": [
    "df=pd.read_csv('data.csv')"
   ]
  },
  {
   "cell_type": "code",
   "execution_count": 7,
   "metadata": {},
   "outputs": [
    {
     "name": "stdout",
     "output_type": "stream",
     "text": [
      "Unnamed: 0\n",
      "Osama\n"
     ]
    }
   ],
   "source": [
    "for i in df:\n",
    "    print(i)"
   ]
  },
  {
   "cell_type": "code",
   "execution_count": 17,
   "metadata": {
    "scrolled": true
   },
   "outputs": [
    {
     "data": {
      "application/javascript": [
       "\n",
       "        if (window._pyforest_update_imports_cell) { window._pyforest_update_imports_cell('import pandas as pd\\nimport numpy as np'); }\n",
       "    "
      ],
      "text/plain": [
       "<IPython.core.display.Javascript object>"
      ]
     },
     "metadata": {},
     "output_type": "display_data"
    },
    {
     "data": {
      "application/javascript": [
       "\n",
       "        if (window._pyforest_update_imports_cell) { window._pyforest_update_imports_cell('import pandas as pd\\nimport numpy as np'); }\n",
       "    "
      ],
      "text/plain": [
       "<IPython.core.display.Javascript object>"
      ]
     },
     "metadata": {},
     "output_type": "display_data"
    },
    {
     "data": {
      "text/plain": [
       "[array([  0,   1,   2,   3,   4,   5,   6,   7,   8,   9,  10,  11,  12,\n",
       "         13,  14,  15,  16,  17,  18,  19,  20,  21,  22,  23,  24,  25,\n",
       "         26,  27,  28,  29,  30,  31,  32,  33,  34,  35,  36,  37,  38,\n",
       "         39,  40,  41,  42,  43,  44,  45,  46,  47,  48,  49,  50,  51,\n",
       "         52,  53,  54,  55,  56,  57,  58,  59,  60,  61,  62,  63,  64,\n",
       "         65,  66,  67,  68,  69,  70,  71,  72,  73,  74,  75,  76,  77,\n",
       "         78,  79,  80,  81,  82,  83,  84,  85,  86,  87,  88,  89,  90,\n",
       "         91,  92,  93,  94,  95,  96,  97,  98,  99, 100, 101, 102, 103,\n",
       "        104, 105, 106, 107, 108, 109, 110, 111, 112, 113, 114, 115, 116,\n",
       "        117, 118, 119, 120, 121, 122, 123, 124, 125, 126, 127], dtype=int64),\n",
       " array([-0.13168086,  0.05458729, -0.02572814, -0.0614719 ,  0.00137012,\n",
       "        -0.05377344,  0.02591705, -0.18809685,  0.21956789, -0.0856041 ,\n",
       "         0.18146756, -0.03847757, -0.16179755, -0.10885389, -0.0218644 ,\n",
       "         0.0359259 , -0.20530954, -0.14206937, -0.05935276, -0.0485812 ,\n",
       "         0.01933261, -0.00061988, -0.02140339,  0.07593197, -0.12505697,\n",
       "        -0.35100788, -0.1419597 , -0.17031729,  0.12603737, -0.04382483,\n",
       "         0.05357014,  0.04612103, -0.18955088, -0.02423848, -0.0123613 ,\n",
       "         0.0877479 , -0.05835804, -0.0185926 ,  0.21665779,  0.05302354,\n",
       "        -0.13778651, -0.07253326, -0.0249239 ,  0.30202606,  0.1326559 ,\n",
       "         0.03133184,  0.03754102, -0.06911661,  0.09588212, -0.17810421,\n",
       "         0.07709508,  0.21856189,  0.16788541,  0.03271682,  0.08327005,\n",
       "        -0.14776409,  0.01217478,  0.1115545 , -0.31208462,  0.12235585,\n",
       "         0.09055313, -0.03861342, -0.0763268 , -0.00394861,  0.18481864,\n",
       "         0.15479361, -0.12299351, -0.10223949,  0.23029657, -0.20944422,\n",
       "         0.02781446,  0.04873533, -0.08460847, -0.26002216, -0.17806986,\n",
       "         0.02322606,  0.45698866,  0.19830227, -0.1211933 ,  0.03613925,\n",
       "        -0.15852898, -0.09239684,  0.10470632,  0.0673874 , -0.08841374,\n",
       "         0.00719378, -0.06216552,  0.04519022,  0.09577325,  0.04175854,\n",
       "         0.0022615 ,  0.18563248, -0.04321814, -0.03048194, -0.02413013,\n",
       "        -0.0572039 , -0.11323024,  0.04714512, -0.03679378, -0.03289364,\n",
       "        -0.01398885, -0.06579174,  0.05524885,  0.05310722, -0.14263913,\n",
       "         0.21386755,  0.07963035, -0.03111362,  0.00894733, -0.0108123 ,\n",
       "        -0.08471727, -0.05960939,  0.17935793, -0.29714608,  0.19095162,\n",
       "         0.12031871, -0.00679271,  0.20611815,  0.00135974,  0.10608502,\n",
       "         0.01593551, -0.07117072, -0.19896981, -0.02685547, -0.01665064,\n",
       "        -0.03814067,  0.03478117, -0.01099983])]"
      ]
     },
     "execution_count": 17,
     "metadata": {},
     "output_type": "execute_result"
    }
   ],
   "source": [
    "z=[]\n",
    "for i in range(2):\n",
    "    z.append(np.array(df.iloc[:,i]))\n",
    "z"
   ]
  },
  {
   "cell_type": "code",
   "execution_count": null,
   "metadata": {},
   "outputs": [],
   "source": []
  }
 ],
 "metadata": {
  "kernelspec": {
   "display_name": "Python 3",
   "language": "python",
   "name": "python3"
  },
  "language_info": {
   "codemirror_mode": {
    "name": "ipython",
    "version": 3
   },
   "file_extension": ".py",
   "mimetype": "text/x-python",
   "name": "python",
   "nbconvert_exporter": "python",
   "pygments_lexer": "ipython3",
   "version": "3.6.8"
  }
 },
 "nbformat": 4,
 "nbformat_minor": 4
}
